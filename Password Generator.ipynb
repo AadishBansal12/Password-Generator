{
 "cells": [
  {
   "cell_type": "markdown",
   "id": "f9670294",
   "metadata": {},
   "source": [
    "# Project :Password Generator"
   ]
  },
  {
   "cell_type": "markdown",
   "id": "0e420f85",
   "metadata": {},
   "source": [
    "In this project, we will build a password generator using Python. The password generator will ask the user for the length of the password, and then generate a random password of that length. The password will contain a combination of uppercase and lowercase letters, digits, and special characters. Here's how you can implement this project:"
   ]
  },
  {
   "cell_type": "code",
   "execution_count": 6,
   "id": "7b20ee9e",
   "metadata": {},
   "outputs": [
    {
     "name": "stdout",
     "output_type": "stream",
     "text": [
      "Enter the length of the password: 7\n",
      "Generated password:  >.TK.@h\n"
     ]
    },
    {
     "data": {
      "text/plain": [
       "'\\nThis is a basic implementation of a password generator in Python. You can further modify\\nand improve it by adding more features, such as allowing the user to select which character sets\\nto include, or saving the generated password to a file.\\n'"
      ]
     },
     "execution_count": 6,
     "metadata": {},
     "output_type": "execute_result"
    }
   ],
   "source": [
    "#Step 1: Import the required modules\n",
    "\n",
    "import random\n",
    "import string\n",
    "\n",
    "#Step 2: Define a function to generate the password\n",
    "\n",
    "def generate_password(length):\n",
    "    # Define the character sets to be used for the password\n",
    "    lower_chars = string.ascii_lowercase\n",
    "    upper_chars = string.ascii_uppercase\n",
    "    digits = string.digits\n",
    "    special_chars = string.punctuation\n",
    "    \n",
    "    # Combine the character sets\n",
    "    all_chars = lower_chars + upper_chars + digits + special_chars\n",
    "    \n",
    "    # Shuffle the characters\n",
    "    shuffled_chars = random.sample(all_chars, len(all_chars))\n",
    "    \n",
    "    # Generate the password\n",
    "    password = ''.join(random.choices(shuffled_chars, k=length))\n",
    "    \n",
    "    return password\n",
    "\n",
    "\n",
    "#Step 3: Ask the user for the password length\n",
    "\n",
    "password_length = int(input(\"Enter the length of the password: \"))\n",
    "\n",
    "#Step 4: Generate the password and print it\n",
    "\n",
    "password = generate_password(password_length)\n",
    "print(\"Generated password: \", password)\n",
    "\n",
    "\"\"\"\n",
    "This is a basic implementation of a password generator in Python. You can further modify\n",
    "and improve it by adding more features, such as allowing the user to select which character sets\n",
    "to include, or saving the generated password to a file.\n",
    "\"\"\""
   ]
  }
 ],
 "metadata": {
  "kernelspec": {
   "display_name": "Python 3 (ipykernel)",
   "language": "python",
   "name": "python3"
  },
  "language_info": {
   "codemirror_mode": {
    "name": "ipython",
    "version": 3
   },
   "file_extension": ".py",
   "mimetype": "text/x-python",
   "name": "python",
   "nbconvert_exporter": "python",
   "pygments_lexer": "ipython3",
   "version": "3.9.13"
  }
 },
 "nbformat": 4,
 "nbformat_minor": 5
}
